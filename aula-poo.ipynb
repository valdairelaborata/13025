{
 "cells": [
  {
   "attachments": {},
   "cell_type": "markdown",
   "metadata": {},
   "source": [
    "<center><img src=\"https://drive.google.com/uc?export=view&id=1TioFdYzIbmRKAWdoXoSFld50Vne1pQ60\" /></center>"
   ]
  },
  {
   "attachments": {},
   "cell_type": "markdown",
   "metadata": {},
   "source": [
    "<h1 style=\"color:#6495ED;\">Python - Programação Orientada a Objetos</h1>"
   ]
  },
  {
   "attachments": {},
   "cell_type": "markdown",
   "metadata": {},
   "source": [
    "<h3 style=\"color:#6495ED;\">Instruções importantes:</h3>\n",
    "<ol>\n",
    "    <li><strong style=\"color:#6495ED\">class</strong><br/>\n",
    "        Palavra chave utilizada para a criação de uma nova classe. Para nomenclatura de uma nova classe utiliza-se o padrão <span style=\"color:crimson\">CamelCase</span><br/>\n",
    "    </li>\n",
    "    <br />\n",
    "    <li><strong style=\"color:#6495ED\">def</strong><br/>\n",
    "        Utilizado para criação de um novo método. Para nomenclatura utiliza-se o padrão <span style=\"color:crimson\">snake_case</span><br/>\n",
    "    </li>\n",
    "    <br />\n",
    "    <li><strong style=\"color:#6495ED\">self</strong><br/>\n",
    "        Parâmetro utilizado em OO para definir que determiado atributo ou método pertence ao objeto. Serve como auto-apontamento. Atributos ou métodos que não possuam o <span style=\"color:#6495ED\">self</span> não podem ser acessados pelo objeto<br/>\n",
    "    </li>\n",
    "</ol>"
   ]
  },
  {
   "attachments": {},
   "cell_type": "markdown",
   "metadata": {},
   "source": [
    "<h3 style=\"color:crimson;\">Exemplo:</h3>"
   ]
  },
  {
   "attachments": {},
   "cell_type": "markdown",
   "metadata": {},
   "source": [
    "<h5 style=\"color:#6495ED;\">Criação da classe:</h5>"
   ]
  },
  {
   "cell_type": "code",
   "execution_count": 1,
   "metadata": {},
   "outputs": [],
   "source": [
    "class Carro:\n",
    "\n",
    "    def __init__(self, cor, ano, status=\"desligado\"):\n",
    "        self.cor = cor\n",
    "        self.ano = ano\n",
    "        self.status = status        \n",
    "\n",
    "    def ligar(self):\n",
    "        self.status = \"ligado\"\n",
    "\n",
    "    def desligar(self):\n",
    "        self.status = \"desligado\""
   ]
  },
  {
   "attachments": {},
   "cell_type": "markdown",
   "metadata": {},
   "source": [
    "<h5 style=\"color:#6495ED;\">Instanciação de objetos:</h5>"
   ]
  },
  {
   "cell_type": "code",
   "execution_count": 2,
   "metadata": {},
   "outputs": [],
   "source": [
    "a = Carro(\"Roxo\", 2014)\n",
    "b = Carro(\"Vermelho\", 2000, \"ligado\")"
   ]
  },
  {
   "attachments": {},
   "cell_type": "markdown",
   "metadata": {},
   "source": [
    "<h5 style=\"color:#6495ED;\">Chamada de métodos:</h5>"
   ]
  },
  {
   "cell_type": "code",
   "execution_count": 3,
   "metadata": {},
   "outputs": [
    {
     "data": {
      "text/plain": [
       "'desligado'"
      ]
     },
     "execution_count": 3,
     "metadata": {},
     "output_type": "execute_result"
    }
   ],
   "source": [
    "a.desligar()\n",
    "a.status"
   ]
  },
  {
   "attachments": {},
   "cell_type": "markdown",
   "metadata": {},
   "source": [
    "<h5 style=\"color:#6495ED;\">Chamada de atributos:</h5>"
   ]
  },
  {
   "cell_type": "code",
   "execution_count": 4,
   "metadata": {},
   "outputs": [
    {
     "data": {
      "text/plain": [
       "'Roxo'"
      ]
     },
     "execution_count": 4,
     "metadata": {},
     "output_type": "execute_result"
    }
   ],
   "source": [
    "a.cor"
   ]
  },
  {
   "attachments": {},
   "cell_type": "markdown",
   "metadata": {},
   "source": [
    "<h5 style=\"color:#6495ED;\">Atribuição de valores a atributos:</h5>"
   ]
  },
  {
   "cell_type": "code",
   "execution_count": 5,
   "metadata": {},
   "outputs": [
    {
     "data": {
      "text/plain": [
       "'Preto'"
      ]
     },
     "execution_count": 5,
     "metadata": {},
     "output_type": "execute_result"
    }
   ],
   "source": [
    "a.cor = 'Preto'\n",
    "a.cor"
   ]
  },
  {
   "attachments": {},
   "cell_type": "markdown",
   "metadata": {},
   "source": [
    "<h3 style=\"color:crimson;\">Exercícios:</h3>"
   ]
  },
  {
   "cell_type": "markdown",
   "metadata": {},
   "source": [
    "Crie uma classe chamada Carro com atributos marca e modelo. Adicione um método descricao() que retorna uma string formatada com a marca e o modelo do carro. Crie uma instância dessa classe e chame o método descricao()<p>1) .</p>"
   ]
  },
  {
   "cell_type": "code",
   "execution_count": 2,
   "metadata": {},
   "outputs": [
    {
     "name": "stdout",
     "output_type": "stream",
     "text": [
      "Marca: Toyota\n",
      "Modelo: Corolla\n",
      "Este é um {self.marca} {self.modelo}\n"
     ]
    }
   ],
   "source": [
    "class Carro:\n",
    "    def __init__(self, marca, modelo):\n",
    "        self.marca = marca\n",
    "        self.modelo = modelo\n",
    "\n",
    "    def descricao(self):\n",
    "       return f\"Este é um {self.marca} {self.modelo}\"\n",
    "\n",
    "# Criando uma instância da classe Carro\n",
    "meu_carro = Carro(\"Toyota\", \"Corolla\")\n",
    "\n",
    "# Acessando os atributos da instância\n",
    "print(\"Marca:\", meu_carro.marca)\n",
    "print(\"Modelo:\", meu_carro.modelo)\n",
    "print(meu_carro.descricao())"
   ]
  },
  {
   "cell_type": "markdown",
   "metadata": {},
   "source": []
  },
  {
   "cell_type": "markdown",
   "metadata": {},
   "source": [
    "<p>2) Crie uma classe Calculadora com métodos para adição, subtração, multiplicação e divisão. Crie uma instância da classe e realize algumas operações.</p>"
   ]
  },
  {
   "cell_type": "code",
   "execution_count": 7,
   "metadata": {},
   "outputs": [
    {
     "name": "stdout",
     "output_type": "stream",
     "text": [
      "Soma: 8\n",
      "Subtração: 6\n",
      "Multiplicação: 12\n"
     ]
    }
   ],
   "source": [
    "class Calculadora:\n",
    "    def __init__(self):\n",
    "        pass\n",
    "    \n",
    "    def adicionar(self, a, b):\n",
    "        return a + b\n",
    "    \n",
    "    def subtrair(self, a, b):\n",
    "        return a - b\n",
    "    \n",
    "    def multiplicar(self, a, b):\n",
    "        return a * b\n",
    "\n",
    "# Criando uma instância da classe Calculadora\n",
    "minha_calculadora = Calculadora()\n",
    "\n",
    "# Realizando operações\n",
    "soma = minha_calculadora.adicionar(5, 3)\n",
    "subtracao = minha_calculadora.subtrair(10, 4)\n",
    "multiplicacao = minha_calculadora.multiplicar(6, 2)\n",
    "\n",
    "# Imprimindo resultados\n",
    "print(\"Soma:\", soma)\n",
    "print(\"Subtração:\", subtracao)\n",
    "print(\"Multiplicação:\", multiplicacao)"
   ]
  },
  {
   "cell_type": "markdown",
   "metadata": {},
   "source": [
    "<p>3) Crie uma classe ContaBancaria com atributos titular e saldo. Adicione métodos para depositar e sacar dinheiro da conta. Certifique-se de tratar casos onde o saldo não seja suficiente para saque.</p>"
   ]
  },
  {
   "cell_type": "code",
   "execution_count": 8,
   "metadata": {},
   "outputs": [
    {
     "name": "stdout",
     "output_type": "stream",
     "text": [
      "Saldo atual: 1300\n"
     ]
    }
   ],
   "source": [
    "class ContaBancaria:\n",
    "    def __init__(self, titular, saldo_inicial=0):\n",
    "        self.titular = titular\n",
    "        self.saldo = saldo_inicial\n",
    "    \n",
    "    def depositar(self, valor):\n",
    "        self.saldo += valor\n",
    "        return self.saldo\n",
    "    \n",
    "    def sacar(self, valor):\n",
    "        if valor > self.saldo:\n",
    "            print(\"Saldo insuficiente.\")\n",
    "        else:\n",
    "            self.saldo -= valor\n",
    "            return self.saldo\n",
    "    \n",
    "    def consultar_saldo(self):\n",
    "        return self.saldo\n",
    "\n",
    "# Criando uma instância da classe ContaBancaria\n",
    "minha_conta = ContaBancaria(\"João\", 1000)\n",
    "\n",
    "# Realizando operações\n",
    "minha_conta.depositar(500)\n",
    "minha_conta.sacar(200)\n",
    "\n",
    "# Consultando saldo\n",
    "saldo_atual = minha_conta.consultar_saldo()\n",
    "print(\"Saldo atual:\", saldo_atual)"
   ]
  }
 ],
 "metadata": {
  "kernelspec": {
   "display_name": "Python 3.7.9 64-bit (microsoft store)",
   "language": "python",
   "name": "python3"
  },
  "language_info": {
   "codemirror_mode": {
    "name": "ipython",
    "version": 3
   },
   "file_extension": ".py",
   "mimetype": "text/x-python",
   "name": "python",
   "nbconvert_exporter": "python",
   "pygments_lexer": "ipython3",
   "version": "3.11.3"
  },
  "orig_nbformat": 4,
  "vscode": {
   "interpreter": {
    "hash": "39a25611f9fccc4e358ed5a6ff84d955c0950a300bb89bf6122cf9ec76497b9e"
   }
  }
 },
 "nbformat": 4,
 "nbformat_minor": 2
}
