{
 "cells": [
  {
   "cell_type": "markdown",
   "metadata": {},
   "source": [
    "<center><img src=\"https://drive.google.com/uc?export=view&id=1TioFdYzIbmRKAWdoXoSFld50Vne1pQ60\" /></center>"
   ]
  },
  {
   "cell_type": "markdown",
   "metadata": {},
   "source": [
    "<h1 style=\"color:#6495ED;\">Python - Programação Orientada a Objetos - Abstração e Encapsulamento</h1>"
   ]
  },
  {
   "cell_type": "markdown",
   "metadata": {},
   "source": [
    "<h3 style=\"color:#6495ED;\">Instruções importantes:</h3>\n",
    "<ol>\n",
    "    <li>\n",
    "        <strong style=\"color:#6495ED\">__attr</strong><br/>\n",
    "        Atributos criados iniciando com dois sublinhados(__) são definidos como atributos privados ao objeto. Assim, eles não podem ser acessados diretamente da área externa ao objeto.<br />\n",
    "        O duplo sublinhado que antecede também altera a forma como o interpretador do Python o reconhece: agora é adicionado a ele um namespace, de forma que o atributo é reconhecido como <span style=\"color:crimson\">_namespace__attr</span>. Isso é utilizado para evitar a confusão entre atributos homônimos.\n",
    "    </li>\n",
    "    <br />\n",
    "    <li>\n",
    "        <strong style=\"color:#6495ED\">__method</strong><br/>\n",
    "        Métodos privados possuem o mesmo princípio de funcionamento dos atributos privados, sendo acessíveis apenas da área interna do objeto.\n",
    "    </li>\n",
    "    <br />\n",
    "    <li>\n",
    "        <strong style=\"color:#6495ED\">Getters</strong><br/>\n",
    "        São métodos utilizados para recuperar o valor de um atributo privado. <br />Geralmente iniciam com o prefixo <span style=\"color:crimson\">get_</span>\n",
    "    </li>\n",
    "    <br />\n",
    "    <li>\n",
    "        <strong style=\"color:#6495ED\">Setters</strong><br/>\n",
    "        São métodos utilizados para definir o valor de um atributo privado.<br />\n",
    "        Geralmente iniciam com o prefixo <span style=\"color:crimson\">set_</span>\n",
    "    </li>\n",
    "    <br />\n",
    "</ol>"
   ]
  },
  {
   "cell_type": "markdown",
   "metadata": {},
   "source": [
    "<h3 style=\"color:crimson;\">Exemplo:</h3>"
   ]
  },
  {
   "cell_type": "code",
   "execution_count": null,
   "metadata": {},
   "outputs": [],
   "source": [
    "class Carro:\n",
    "\n",
    "    def __init__(self, cor=None, status=\"desligado\", tanque=0):\n",
    "        self.__cor = cor\n",
    "        self.__status = status\n",
    "        self.__tanque = tanque # Definindo um atributo privado (__attr)\n",
    "\n",
    "    def ligar(self):\n",
    "        if self.__verificar_combustivel() > 0 and self.__status == \"desligado\":\n",
    "            self.__status == \"ligado\"\n",
    "        else:\n",
    "            raise Exception(\"O carro não pode ser ligado\")\n",
    "\n",
    "    def abastecer(self, volume): # Método público\n",
    "        if volume < 0:\n",
    "            raise ValueError(\"Valor inválido para abastecimento\")\n",
    "        if self.__tanque + volume <= 40:\n",
    "            self.__tanque += volume # Atribuição de valor a attr privado\n",
    "        else:\n",
    "            raise Exception(\"Volume ultrapassa capacidade do tanque\")\n",
    "\n",
    "\n",
    "    def __verificar_combustivel(self):\n",
    "        return self.__tanque\n",
    "\n",
    "\n",
    "    # Getters e Setters\n",
    "    # Getter => Retorna o valor de um atributo\n",
    "    # Setter => Define o valor de uma atributo\n",
    "    def set_cor(self, cor):\n",
    "        self.__cor = cor\n",
    "\n",
    "    def get_cor(self):\n",
    "        return self.__cor\n",
    "\n",
    "    def set_tanque(self, volume):\n",
    "        self.abastecer(volume)\n",
    "\n",
    "    def get_tanque(self):\n",
    "        return self.__tanque\n"
   ]
  },
  {
   "cell_type": "markdown",
   "metadata": {},
   "source": [
    "<h5 style=\"color:#6495ED;\">Chamada a atributo privado:</h5>"
   ]
  },
  {
   "cell_type": "code",
   "execution_count": null,
   "metadata": {},
   "outputs": [],
   "source": [
    "a = Carro()\n",
    "a.__tanque"
   ]
  },
  {
   "cell_type": "markdown",
   "metadata": {},
   "source": [
    "<h5 style=\"color:#6495ED;\">Chamada a método privado:</h5>"
   ]
  },
  {
   "cell_type": "code",
   "execution_count": null,
   "metadata": {},
   "outputs": [],
   "source": [
    "a = Carro()\n",
    "a.__verificar_combustivel()"
   ]
  },
  {
   "cell_type": "markdown",
   "metadata": {},
   "source": [
    "<h5 style=\"color:#6495ED;\">Chamadas a método público:</h5>"
   ]
  },
  {
   "cell_type": "code",
   "execution_count": null,
   "metadata": {},
   "outputs": [],
   "source": [
    "a = Carro()\n",
    "a.abastecer(20)"
   ]
  },
  {
   "cell_type": "code",
   "execution_count": null,
   "metadata": {},
   "outputs": [],
   "source": [
    "a.abastecer(21)"
   ]
  },
  {
   "cell_type": "code",
   "execution_count": null,
   "metadata": {},
   "outputs": [],
   "source": [
    "a = Carro(tanque=10)\n",
    "a.ligar()"
   ]
  },
  {
   "cell_type": "code",
   "execution_count": null,
   "metadata": {},
   "outputs": [],
   "source": [
    "a = Carro()\n",
    "a.ligar()"
   ]
  },
  {
   "cell_type": "markdown",
   "metadata": {},
   "source": [
    "<h5 style=\"color:#6495ED;\">Definicição de propriedade, getters e setters:</h5>"
   ]
  },
  {
   "cell_type": "code",
   "execution_count": null,
   "metadata": {},
   "outputs": [],
   "source": [
    "class Carro:\n",
    "\n",
    "    def __init__(self, cor=None, status=\"desligado\", tanque=0):\n",
    "        self.__cor = cor\n",
    "        self.__status = status\n",
    "        self.__tanque = tanque\n",
    "\n",
    "    @property #decorador\n",
    "    def cor(self):\n",
    "        return self.__cor\n",
    "\n",
    "    @cor.getter\n",
    "    def cor(self):\n",
    "        return self.__cor\n",
    "\n",
    "    @cor.setter\n",
    "    def cor(self, cor):\n",
    "        self.__cor = cor\n",
    "\n",
    "    @cor.deleter\n",
    "    def cor(self):\n",
    "        self.__cor = None\n",
    "\n",
    "    @property\n",
    "    def tanque(self):\n",
    "        return self.__tanque\n",
    "\n",
    "    @tanque.getter\n",
    "    def tanque(self):\n",
    "        return self.__tanque\n",
    "\n",
    "    @tanque.setter\n",
    "    def tanque(self, volume):\n",
    "        if volume == 0:\n",
    "            pass\n",
    "        else:\n",
    "            if volume < 0:\n",
    "                raise ValueError(\"Valor inválido para abastecimento\")\n",
    "            if self.__tanque + volume <= 40:\n",
    "                self.__tanque += volume # Atribuição de valor a attr privado\n",
    "            else:\n",
    "                raise Exception(\"Volume ultrapassa capacidade do tanque\")\n",
    "\n",
    "    @tanque.deleter\n",
    "    def tanque(self):\n",
    "        self.__tanque = 0\n"
   ]
  },
  {
   "cell_type": "markdown",
   "metadata": {},
   "source": [
    "<h5 style=\"color:#6495ED;\">Chamadas e atribuição de valores a atributos:</h5>"
   ]
  },
  {
   "cell_type": "code",
   "execution_count": null,
   "metadata": {},
   "outputs": [],
   "source": [
    "a = Carro()\n",
    "a.cor"
   ]
  },
  {
   "cell_type": "code",
   "execution_count": null,
   "metadata": {},
   "outputs": [],
   "source": [
    "a.cor = \"Prata\"\n",
    "a.cor"
   ]
  },
  {
   "cell_type": "code",
   "execution_count": null,
   "metadata": {},
   "outputs": [],
   "source": [
    "a.tanque"
   ]
  },
  {
   "cell_type": "code",
   "execution_count": null,
   "metadata": {},
   "outputs": [],
   "source": [
    "a.tanque = 15\n",
    "a.tanque"
   ]
  },
  {
   "cell_type": "code",
   "execution_count": null,
   "metadata": {},
   "outputs": [],
   "source": [
    "a.tanque = 15\n",
    "a.tanque"
   ]
  },
  {
   "cell_type": "markdown",
   "metadata": {},
   "source": [
    "<h3 style=\"color:crimson;\">Exercícios:</h3>"
   ]
  },
  {
   "cell_type": "markdown",
   "metadata": {},
   "source": [
    "<p>1) Considere uma classe de Conta Bancária e aplique os conceitos de encapsulamento para movimentar o saldo e a troca do titular.</p>"
   ]
  },
  {
   "cell_type": "code",
   "execution_count": 1,
   "metadata": {},
   "outputs": [
    {
     "name": "stdout",
     "output_type": "stream",
     "text": [
      "Depósito de 500 realizado. Novo saldo: 1500\n",
      "Saque de 200 realizado. Novo saldo: 1300\n",
      "Saldo atual: 1300\n",
      "Titular: Alice\n",
      "Novo titular: Bob\n"
     ]
    }
   ],
   "source": [
    "class ContaBancaria:\n",
    "    def __init__(self, titular, saldo_inicial):\n",
    "        self.__titular = titular\n",
    "        self.__saldo = saldo_inicial\n",
    "\n",
    "    def depositar(self, valor):\n",
    "        if valor > 0:\n",
    "            self.__saldo += valor\n",
    "            print(f\"Depósito de {valor} realizado. Novo saldo: {self.__saldo}\")\n",
    "        else:\n",
    "            print(\"O valor do depósito deve ser maior que 0.\")\n",
    "\n",
    "    def sacar(self, valor):\n",
    "        if 0 < valor <= self.__saldo:\n",
    "            self.__saldo -= valor\n",
    "            print(f\"Saque de {valor} realizado. Novo saldo: {self.__saldo}\")\n",
    "        else:\n",
    "            print(\"Saldo insuficiente ou valor inválido.\")\n",
    "\n",
    "    def consultar_saldo(self):\n",
    "        print(f\"Saldo atual: {self.__saldo}\")\n",
    "\n",
    "    def get_titular(self):\n",
    "        return self.__titular\n",
    "\n",
    "    def set_titular(self, novo_titular):\n",
    "        self.__titular = novo_titular\n",
    "\n",
    "# Criando uma instância da classe ContaBancaria\n",
    "conta = ContaBancaria(\"Alice\", 1000)\n",
    "\n",
    "# Realizando operações bancárias\n",
    "conta.depositar(500)\n",
    "conta.sacar(200)\n",
    "conta.consultar_saldo()\n",
    "\n",
    "# Acessando e modificando o titular encapsulado\n",
    "print(\"Titular:\", conta.get_titular())  # Saída: Alice\n",
    "conta.set_titular(\"Bob\")\n",
    "print(\"Novo titular:\", conta.get_titular())  # Saída: Bob\n"
   ]
  },
  {
   "cell_type": "markdown",
   "metadata": {},
   "source": [
    "<p>2) Crie uma classe ContaBancaria que inclui funcionalidades básicas e uma classe ContaCorrente que herda da classe base. A classe derivada ContaCorrente substitui o método sacar para considerar um limite de saque além do saldo disponível</p>"
   ]
  },
  {
   "cell_type": "code",
   "execution_count": 2,
   "metadata": {},
   "outputs": [
    {
     "name": "stdout",
     "output_type": "stream",
     "text": [
      "Depósito de 200 realizado. Novo saldo: 1200\n",
      "Saque de 1500 realizado. Novo saldo: -300\n",
      "Saldo atual: -300\n"
     ]
    }
   ],
   "source": [
    "class ContaBancaria:\n",
    "    def __init__(self, titular, saldo_inicial):\n",
    "        self.__titular = titular\n",
    "        self.__saldo = saldo_inicial\n",
    "\n",
    "    def depositar(self, valor):\n",
    "        if valor > 0:\n",
    "            self.__saldo += valor\n",
    "            print(f\"Depósito de {valor} realizado. Novo saldo: {self.__saldo}\")\n",
    "        else:\n",
    "            print(\"O valor do depósito deve ser maior que 0.\")\n",
    "\n",
    "    def sacar(self, valor):\n",
    "        if 0 < valor <= self.__saldo:\n",
    "            self.__saldo -= valor\n",
    "            print(f\"Saque de {valor} realizado. Novo saldo: {self.__saldo}\")\n",
    "        else:\n",
    "            print(\"Saldo insuficiente ou valor inválido.\")\n",
    "\n",
    "    def consultar_saldo(self):\n",
    "        print(f\"Saldo atual: {self.__saldo}\")\n",
    "\n",
    "    def get_titular(self):\n",
    "        return self.__titular\n",
    "\n",
    "    def set_titular(self, novo_titular):\n",
    "        self.__titular = novo_titular\n",
    "\n",
    "class ContaCorrente(ContaBancaria):\n",
    "    def __init__(self, titular, saldo_inicial, limite):\n",
    "        super().__init__(titular, saldo_inicial)\n",
    "        self.__limite = limite\n",
    "\n",
    "    def sacar(self, valor):\n",
    "        if valor <= self._ContaBancaria__saldo + self.__limite:\n",
    "            self._ContaBancaria__saldo -= valor\n",
    "            print(f\"Saque de {valor} realizado. Novo saldo: {self._ContaBancaria__saldo}\")\n",
    "        else:\n",
    "            print(\"Saldo insuficiente ou valor inválido.\")\n",
    "\n",
    "# Criando uma instância da classe ContaCorrente\n",
    "conta_corrente = ContaCorrente(\"Alice\", 1000, 500)\n",
    "\n",
    "# Realizando operações bancárias na conta corrente\n",
    "conta_corrente.depositar(200)\n",
    "conta_corrente.sacar(1500)\n",
    "conta_corrente.consultar_saldo()\n"
   ]
  }
 ],
 "metadata": {
  "kernelspec": {
   "display_name": "Python 3.7.9 64-bit (microsoft store)",
   "language": "python",
   "name": "python3"
  },
  "language_info": {
   "codemirror_mode": {
    "name": "ipython",
    "version": 3
   },
   "file_extension": ".py",
   "mimetype": "text/x-python",
   "name": "python",
   "nbconvert_exporter": "python",
   "pygments_lexer": "ipython3",
   "version": "3.11.3"
  },
  "orig_nbformat": 4,
  "vscode": {
   "interpreter": {
    "hash": "39a25611f9fccc4e358ed5a6ff84d955c0950a300bb89bf6122cf9ec76497b9e"
   }
  }
 },
 "nbformat": 4,
 "nbformat_minor": 2
}
